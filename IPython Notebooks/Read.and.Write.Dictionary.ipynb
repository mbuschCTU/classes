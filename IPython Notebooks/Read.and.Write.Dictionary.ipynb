{
 "cells": [
  {
   "cell_type": "markdown",
   "metadata": {},
   "source": [
    "# Working with Dictionaries\n",
    "\n",
    "My idea for the Snippet Manager is to have each snippet contained in a dictionary, like so:\n",
    "\n",
    "```\n",
    "snip = {\n",
    "    'name':'mySnippet',\n",
    "    'code':'for x in range(1,7): \\n    print(x)',\n",
    "    'tags':['loop', 'for'],\n",
    "    'language':'python',\n",
    "    'notes': 'my awesome for loop code.'\n",
    "    }\n",
    "```\n",
    "\n",
    "Then, internally, the entire collection of snippets will be many of these dictionaries stored in a list (shorter example below).\n",
    "\n",
    "\n",
    "Let's see how this might work with a simpler example:"
   ]
  },
  {
   "cell_type": "code",
   "execution_count": 6,
   "metadata": {
    "collapsed": false
   },
   "outputs": [
    {
     "name": "stdout",
     "output_type": "stream",
     "text": [
      "{'department': 'engineering', 'age': 43, 'name': 'Henry'}\n",
      "{'department': 'R & D', 'age': 29, 'name': 'Joan'}\n"
     ]
    }
   ],
   "source": [
    "def printplus(obj):   # printplus is a function I saw on StackOverflow and saved in my own\n",
    "                      # snippet manager :)\n",
    "    \"\"\"\n",
    "    Pretty-prints the object passed in.\n",
    "\n",
    "    \"\"\"\n",
    "    # Dict\n",
    "    if isinstance(obj, dict):\n",
    "        for k, v in sorted(obj.items()):\n",
    "            print (u'{0}: {1}'.format(k, v))\n",
    "\n",
    "    # List or tuple            \n",
    "    elif isinstance(obj, list) or isinstance(obj, tuple):\n",
    "        for x in obj:\n",
    "            print (x)\n",
    "\n",
    "    # Other\n",
    "    else:\n",
    "        print (obj)\n",
    "\n",
    "\n",
    "dict_list = []\n",
    "dct = {'name':'Henry','age':43,'department':'engineering'}\n",
    "dict_list.append(dct)   # dict_list stores a reference to dct's memory location. \n",
    "                        # dct can be safely re-used\n",
    "\n",
    "dct = {'name':'Joan','age':29,'department':'R & D'}\n",
    "dict_list.append(dct)\n",
    "\n",
    "printplus(dict_list)"
   ]
  },
  {
   "cell_type": "markdown",
   "metadata": {},
   "source": [
    "Let's print out each dictionary 'nicely.'"
   ]
  },
  {
   "cell_type": "code",
   "execution_count": 21,
   "metadata": {
    "collapsed": false
   },
   "outputs": [
    {
     "name": "stdout",
     "output_type": "stream",
     "text": [
      "age: 43\n",
      "department: engineering\n",
      "name: Henry\n",
      "\n",
      "\n",
      "age: 29\n",
      "department: R & D\n",
      "name: Joan\n",
      "\n",
      "\n"
     ]
    }
   ],
   "source": [
    "for d in dict_list:\n",
    "    printplus(d)\n",
    "    print('\\n')"
   ]
  },
  {
   "cell_type": "markdown",
   "metadata": {},
   "source": [
    "Now, how about writing that to a file?"
   ]
  },
  {
   "cell_type": "code",
   "execution_count": 9,
   "metadata": {
    "collapsed": false
   },
   "outputs": [],
   "source": [
    "with open ('dictFile.txt','w') as ofile: # I use \"ofile\" as an abbreviation for \"out file\"\n",
    "    for d in dict_list:\n",
    "        ofile.write('name: ' + d['name'] + '\\n')\n",
    "        ofile.write('age: ' + str(d['age']) + '\\n')\n",
    "        ofile.write('department: ' + d['department'] + '\\n')        "
   ]
  },
  {
   "cell_type": "markdown",
   "metadata": {},
   "source": [
    "Now, let's read that back in and make sure it saved correctly:"
   ]
  },
  {
   "cell_type": "code",
   "execution_count": 10,
   "metadata": {
    "collapsed": false
   },
   "outputs": [
    {
     "name": "stdout",
     "output_type": "stream",
     "text": [
      "name: Henry\n",
      "age: 43\n",
      "department: engineering\n",
      "name: Joan\n",
      "age: 29\n",
      "department: R & D\n",
      "\n"
     ]
    }
   ],
   "source": [
    "with open('dictFile.txt','r')  as infile: # short for \"input file\"\n",
    "    print(infile.read())"
   ]
  },
  {
   "cell_type": "markdown",
   "metadata": {},
   "source": [
    "How might we put that back into a couple of dictionaries? One hint is that we can use the ':' to split on, giving the keys and values:"
   ]
  },
  {
   "cell_type": "code",
   "execution_count": 20,
   "metadata": {
    "collapsed": false
   },
   "outputs": [
    {
     "name": "stdout",
     "output_type": "stream",
     "text": [
      "age:  43\n",
      "department:  engineering\n",
      "name:  Henry\n",
      "\n",
      "\n",
      "age:  29\n",
      "department:  R & D\n",
      "name:  Joan\n",
      "\n",
      "\n"
     ]
    }
   ],
   "source": [
    "import pprint\n",
    "\n",
    "inputList = [] # Let's use a new list so we're sure it isn't leftover data\n",
    "indict = {}\n",
    "\n",
    "with open('dictFile.txt','r')  as infile:\n",
    "    temp = infile.readlines()\n",
    "\n",
    "# Putting Humpty-Dumpty back together is a bit more challenging...\n",
    "for i, line in enumerate(temp):\n",
    "    lst = line.split(':')       # split on the ':' - return the list to lst\n",
    "    indict[lst[0]] = lst[1].rstrip('\\n')     # lst[0] is the key, lst[1] is the value\n",
    "                                # also remove the new line we put on when writing or else\n",
    "                                # we'll end up adding another one every time we save\n",
    "    if i % 3 == 2:              # every 3rd line is a new dictionary, so save current one\n",
    "        inputList.append(indict)\n",
    "        indict = {}             # clear the dictionary back out\n",
    "\n",
    "for d in inputList:             \n",
    "    pprint.pprint(d)\n",
    "    print('\\n')"
   ]
  },
  {
   "cell_type": "code",
   "execution_count": 15,
   "metadata": {
    "collapsed": false
   },
   "outputs": [
    {
     "data": {
      "text/plain": [
       "[{'age': ' 43\\n', 'department': ' engineering\\n', 'name': ' Henry\\n'},\n",
       " {'age': ' 29\\n', 'department': ' R & D\\n', 'name': ' Joan\\n'}]"
      ]
     },
     "execution_count": 15,
     "metadata": {},
     "output_type": "execute_result"
    }
   ],
   "source": [
    "inputList"
   ]
  },
  {
   "cell_type": "code",
   "execution_count": 13,
   "metadata": {
    "collapsed": false
   },
   "outputs": [
    {
     "data": {
      "text/plain": [
       "[{'age': ' 29\\n', 'department': ' R & D\\n', 'name': ' Joan\\n'},\n",
       " {'age': ' 29\\n', 'department': ' R & D\\n', 'name': ' Joan\\n'}]"
      ]
     },
     "execution_count": 13,
     "metadata": {},
     "output_type": "execute_result"
    }
   ],
   "source": [
    "inputList"
   ]
  },
  {
   "cell_type": "code",
   "execution_count": null,
   "metadata": {
    "collapsed": true
   },
   "outputs": [],
   "source": []
  }
 ],
 "metadata": {
  "kernelspec": {
   "display_name": "Python 3",
   "language": "python",
   "name": "python3"
  },
  "language_info": {
   "codemirror_mode": {
    "name": "ipython",
    "version": 3
   },
   "file_extension": ".py",
   "mimetype": "text/x-python",
   "name": "python",
   "nbconvert_exporter": "python",
   "pygments_lexer": "ipython3",
   "version": "3.5.1"
  }
 },
 "nbformat": 4,
 "nbformat_minor": 0
}
