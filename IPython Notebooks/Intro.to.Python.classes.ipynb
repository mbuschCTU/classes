{
 "cells": [
  {
   "cell_type": "markdown",
   "metadata": {},
   "source": [
    "## Object Oriented Concepts\n",
    "\n",
    "**class:** A blueprint for making objects. A class consists of:\n",
    "    * Attributes: Varaibles that describe the object\n",
    "    * Methods: Functions that operate on the attributes\n",
    "    * Objects have state\n",
    "**Attribute:** A variable that belongs to a class/object "
   ]
  },
  {
   "cell_type": "code",
   "execution_count": 2,
   "metadata": {
    "collapsed": false
   },
   "outputs": [],
   "source": [
    "class Employee:\n",
    "    def __init__(self, fname=None, lname=None, hire_date=None, job=None, manager=None):\n",
    "        self.fname = fname\n",
    "        self.lname = lname\n",
    "        self.hire_date = hire_date\n",
    "        self.job = job\n",
    "        self.manager = manager\n",
    "        \n",
    "    def hire(self, hireDate):\n",
    "        self.hire_date = hireDate\n",
    "\n",
    "    def change_lname(self, lname):\n",
    "        self.lname = lname\n",
    "\n",
    "    def change_job(self, newJob):\n",
    "        self.job = newJob\n",
    "\n",
    "    def change_manager(self, manager):\n",
    "        self.manager = manager"
   ]
  },
  {
   "cell_type": "code",
   "execution_count": 3,
   "metadata": {
    "collapsed": true
   },
   "outputs": [],
   "source": [
    "emp1 = Employee()"
   ]
  },
  {
   "cell_type": "code",
   "execution_count": 4,
   "metadata": {
    "collapsed": false
   },
   "outputs": [
    {
     "data": {
      "text/plain": [
       "<__main__.Employee at 0x1075a69b0>"
      ]
     },
     "execution_count": 4,
     "metadata": {},
     "output_type": "execute_result"
    }
   ],
   "source": [
    "emp1\n"
   ]
  },
  {
   "cell_type": "code",
   "execution_count": 5,
   "metadata": {
    "collapsed": false
   },
   "outputs": [
    {
     "name": "stdout",
     "output_type": "stream",
     "text": [
      "None\n"
     ]
    }
   ],
   "source": [
    "print(emp1.job)"
   ]
  },
  {
   "cell_type": "code",
   "execution_count": 14,
   "metadata": {
    "collapsed": false
   },
   "outputs": [
    {
     "data": {
      "text/plain": [
       "['__class__',\n",
       " '__delattr__',\n",
       " '__dict__',\n",
       " '__dir__',\n",
       " '__doc__',\n",
       " '__eq__',\n",
       " '__format__',\n",
       " '__ge__',\n",
       " '__getattribute__',\n",
       " '__gt__',\n",
       " '__hash__',\n",
       " '__init__',\n",
       " '__le__',\n",
       " '__lt__',\n",
       " '__module__',\n",
       " '__ne__',\n",
       " '__new__',\n",
       " '__reduce__',\n",
       " '__reduce_ex__',\n",
       " '__repr__',\n",
       " '__setattr__',\n",
       " '__sizeof__',\n",
       " '__str__',\n",
       " '__subclasshook__',\n",
       " '__weakref__',\n",
       " 'change_job',\n",
       " 'change_lname',\n",
       " 'change_manager',\n",
       " 'fname',\n",
       " 'hire',\n",
       " 'hire_date',\n",
       " 'job',\n",
       " 'lname',\n",
       " 'manager']"
      ]
     },
     "execution_count": 14,
     "metadata": {},
     "output_type": "execute_result"
    }
   ],
   "source": [
    "print(dir(emp1))"
   ]
  },
  {
   "cell_type": "code",
   "execution_count": 6,
   "metadata": {
    "collapsed": false
   },
   "outputs": [],
   "source": [
    "emp1.job = 'Developer'"
   ]
  },
  {
   "cell_type": "code",
   "execution_count": 7,
   "metadata": {
    "collapsed": false
   },
   "outputs": [
    {
     "name": "stdout",
     "output_type": "stream",
     "text": [
      "Developer\n"
     ]
    }
   ],
   "source": [
    "print(emp1.job)"
   ]
  },
  {
   "cell_type": "code",
   "execution_count": 8,
   "metadata": {
    "collapsed": false
   },
   "outputs": [
    {
     "data": {
      "text/plain": [
       "__main__.Employee"
      ]
     },
     "execution_count": 8,
     "metadata": {},
     "output_type": "execute_result"
    }
   ],
   "source": [
    "type(emp1)"
   ]
  },
  {
   "cell_type": "code",
   "execution_count": 9,
   "metadata": {
    "collapsed": false
   },
   "outputs": [
    {
     "name": "stdout",
     "output_type": "stream",
     "text": [
      "emp1 is an Employee\n"
     ]
    }
   ],
   "source": [
    "if isinstance(emp1,Employee):\n",
    "    print(\"emp1 is an Employee\")"
   ]
  },
  {
   "cell_type": "code",
   "execution_count": 10,
   "metadata": {
    "collapsed": true
   },
   "outputs": [],
   "source": [
    "emp1.hire_date = 'January 1, 1999'"
   ]
  },
  {
   "cell_type": "code",
   "execution_count": 11,
   "metadata": {
    "collapsed": false
   },
   "outputs": [
    {
     "name": "stdout",
     "output_type": "stream",
     "text": [
      "January 1, 1999\n"
     ]
    }
   ],
   "source": [
    "print (emp1.hire_date)"
   ]
  },
  {
   "cell_type": "code",
   "execution_count": 12,
   "metadata": {
    "collapsed": true
   },
   "outputs": [],
   "source": [
    "emp1.hire('Nov-1-1987')"
   ]
  },
  {
   "cell_type": "code",
   "execution_count": 13,
   "metadata": {
    "collapsed": false
   },
   "outputs": [
    {
     "name": "stdout",
     "output_type": "stream",
     "text": [
      "Nov-1-1987\n"
     ]
    }
   ],
   "source": [
    "print (emp1.hire_date)"
   ]
  },
  {
   "cell_type": "code",
   "execution_count": 14,
   "metadata": {
    "collapsed": true
   },
   "outputs": [],
   "source": [
    "emp2 = Employee('Mike','Busch')"
   ]
  },
  {
   "cell_type": "code",
   "execution_count": 27,
   "metadata": {
    "collapsed": false
   },
   "outputs": [
    {
     "name": "stdout",
     "output_type": "stream",
     "text": [
      "Mike Busch\n"
     ]
    }
   ],
   "source": [
    "print(emp2.fname, emp2.lname)"
   ]
  },
  {
   "cell_type": "code",
   "execution_count": 15,
   "metadata": {
    "collapsed": false
   },
   "outputs": [
    {
     "name": "stdout",
     "output_type": "stream",
     "text": [
      "Nov-1-1987\n"
     ]
    }
   ],
   "source": [
    "emp2.hire_date = emp1.hire_date\n",
    "print(emp2.hire_date)"
   ]
  },
  {
   "cell_type": "code",
   "execution_count": 16,
   "metadata": {
    "collapsed": true
   },
   "outputs": [],
   "source": [
    "class Snippet:\n",
    "    def __init__(self,boot=None, code=[], tags=[],language=None,notes=None):\n",
    "        self.name = boot\n",
    "        self.code = code\n",
    "        self.tags = tags\n",
    "        self.language = language\n",
    "        self.notes = notes\n",
    "        \n",
    "    def input_name(self):\n",
    "        self.name = input('Enter snippet name: ')\n",
    "        \n",
    "    def input_code(self):\n",
    "        text = None\n",
    "        while text != '':\n",
    "            text = input('- ')\n",
    "            if text != '':\n",
    "                self.code.append(text + '\\n')\n",
    "   \n",
    "    def input_tags(self):\n",
    "        text = input('Enter tags separated by commas: ')\n",
    "        self.tags = text.split(',')\n",
    "        \n",
    "    def input_language(self):\n",
    "        self.language = input('Language: ')\n",
    "        \n",
    "    def input_notes(self):\n",
    "        self.notes = input('Enter notes. Return on a blank line ends.\\n\\n')\n",
    "        "
   ]
  },
  {
   "cell_type": "code",
   "execution_count": 17,
   "metadata": {
    "collapsed": true
   },
   "outputs": [],
   "source": [
    "snip = Snippet()"
   ]
  },
  {
   "cell_type": "code",
   "execution_count": 18,
   "metadata": {
    "collapsed": false
   },
   "outputs": [
    {
     "name": "stdout",
     "output_type": "stream",
     "text": [
      "Enter snippet name: mySnip\n"
     ]
    }
   ],
   "source": [
    "snip.input_name()"
   ]
  },
  {
   "cell_type": "code",
   "execution_count": 19,
   "metadata": {
    "collapsed": false
   },
   "outputs": [
    {
     "name": "stdout",
     "output_type": "stream",
     "text": [
      "mySnip\n"
     ]
    }
   ],
   "source": [
    "print(snip.name)"
   ]
  },
  {
   "cell_type": "code",
   "execution_count": 20,
   "metadata": {
    "collapsed": false
   },
   "outputs": [
    {
     "name": "stdout",
     "output_type": "stream",
     "text": [
      "- for x in point:\n",
      "-     do stuff\n",
      "- \n"
     ]
    }
   ],
   "source": [
    "snip.input_code()"
   ]
  },
  {
   "cell_type": "code",
   "execution_count": 21,
   "metadata": {
    "collapsed": false
   },
   "outputs": [
    {
     "name": "stdout",
     "output_type": "stream",
     "text": [
      "['for x in point:\\n', '    do stuff\\n']\n"
     ]
    }
   ],
   "source": [
    "print(snip.code)"
   ]
  },
  {
   "cell_type": "code",
   "execution_count": 22,
   "metadata": {
    "collapsed": false
   },
   "outputs": [
    {
     "name": "stdout",
     "output_type": "stream",
     "text": [
      "Enter tags separated by commas: tag1, tag2, tag3\n"
     ]
    }
   ],
   "source": [
    "snip.input_tags()"
   ]
  },
  {
   "cell_type": "code",
   "execution_count": 23,
   "metadata": {
    "collapsed": false
   },
   "outputs": [
    {
     "name": "stdout",
     "output_type": "stream",
     "text": [
      "['tag1', ' tag2', ' tag3']\n"
     ]
    }
   ],
   "source": [
    "print (snip.tags)"
   ]
  },
  {
   "cell_type": "code",
   "execution_count": 24,
   "metadata": {
    "collapsed": false
   },
   "outputs": [
    {
     "name": "stdout",
     "output_type": "stream",
     "text": [
      "Enter notes. Return on a blank line ends.\n",
      "\n",
      "These are my notes. I like them.\n"
     ]
    }
   ],
   "source": [
    "snip.input_notes()"
   ]
  },
  {
   "cell_type": "code",
   "execution_count": 25,
   "metadata": {
    "collapsed": false
   },
   "outputs": [
    {
     "name": "stdout",
     "output_type": "stream",
     "text": [
      "These are my notes. I like them.\n"
     ]
    }
   ],
   "source": [
    "print(snip.notes)"
   ]
  },
  {
   "cell_type": "code",
   "execution_count": 26,
   "metadata": {
    "collapsed": false
   },
   "outputs": [
    {
     "data": {
      "text/plain": [
       "<__main__.Snippet at 0x107597cc0>"
      ]
     },
     "execution_count": 26,
     "metadata": {},
     "output_type": "execute_result"
    }
   ],
   "source": [
    "snip"
   ]
  },
  {
   "cell_type": "code",
   "execution_count": 27,
   "metadata": {
    "collapsed": true
   },
   "outputs": [],
   "source": [
    "snip_list = []\n",
    "snip_list.append(snip)"
   ]
  },
  {
   "cell_type": "code",
   "execution_count": 28,
   "metadata": {
    "collapsed": false
   },
   "outputs": [
    {
     "name": "stdout",
     "output_type": "stream",
     "text": [
      "[<__main__.Snippet object at 0x107597cc0>]\n"
     ]
    }
   ],
   "source": [
    "print(snip_list)"
   ]
  },
  {
   "cell_type": "code",
   "execution_count": 29,
   "metadata": {
    "collapsed": false
   },
   "outputs": [
    {
     "name": "stdout",
     "output_type": "stream",
     "text": [
      "Enter snippet name: snip2\n",
      "- while text != '':\n",
      "-      do stuff\n",
      "- \n",
      "Enter tags separated by commas: loop, while\n",
      "Language: Python\n",
      "Enter notes. Return on a blank line ends.\n",
      "\n",
      "stuff and and things\n"
     ]
    }
   ],
   "source": [
    "snip2 = Snippet()\n",
    "snip2.input_name()\n",
    "snip2.input_code()\n",
    "snip2.input_tags()\n",
    "snip2.input_language()\n",
    "snip2.input_notes()"
   ]
  },
  {
   "cell_type": "code",
   "execution_count": 30,
   "metadata": {
    "collapsed": true
   },
   "outputs": [],
   "source": [
    "snip_list.append(snip2)"
   ]
  },
  {
   "cell_type": "code",
   "execution_count": 31,
   "metadata": {
    "collapsed": false
   },
   "outputs": [
    {
     "data": {
      "text/plain": [
       "[<__main__.Snippet at 0x107597cc0>, <__main__.Snippet at 0x1075b5630>]"
      ]
     },
     "execution_count": 31,
     "metadata": {},
     "output_type": "execute_result"
    }
   ],
   "source": [
    "snip_list"
   ]
  },
  {
   "cell_type": "code",
   "execution_count": 33,
   "metadata": {
    "collapsed": false
   },
   "outputs": [],
   "source": [
    "import pickle\n",
    "\n",
    "for snippet in snip_list:\n",
    "    pickle.dump( snippet, open( \"save.p\",\"wb\") )\n",
    "    \n",
    "pickle.dump(snip_list, open(\"list.bin\", \"wb\"))"
   ]
  },
  {
   "cell_type": "code",
   "execution_count": 34,
   "metadata": {
    "collapsed": true
   },
   "outputs": [],
   "source": [
    "list2 = pickle.load(open(\"list.bin\", \"rb\"))"
   ]
  },
  {
   "cell_type": "code",
   "execution_count": 35,
   "metadata": {
    "collapsed": false
   },
   "outputs": [
    {
     "data": {
      "text/plain": [
       "[<__main__.Snippet at 0x1075b64a8>, <__main__.Snippet at 0x1075b66a0>]"
      ]
     },
     "execution_count": 35,
     "metadata": {},
     "output_type": "execute_result"
    }
   ],
   "source": [
    "list2"
   ]
  },
  {
   "cell_type": "code",
   "execution_count": 36,
   "metadata": {
    "collapsed": false
   },
   "outputs": [
    {
     "data": {
      "text/plain": [
       "'mySnip'"
      ]
     },
     "execution_count": 36,
     "metadata": {},
     "output_type": "execute_result"
    }
   ],
   "source": [
    "list2[0].name"
   ]
  },
  {
   "cell_type": "code",
   "execution_count": null,
   "metadata": {
    "collapsed": true
   },
   "outputs": [],
   "source": [
    "#Create a \n",
    "class CollegeCourse:"
   ]
  }
 ],
 "metadata": {
  "kernelspec": {
   "display_name": "Python 3",
   "language": "python",
   "name": "python3"
  },
  "language_info": {
   "codemirror_mode": {
    "name": "ipython",
    "version": 3
   },
   "file_extension": ".py",
   "mimetype": "text/x-python",
   "name": "python",
   "nbconvert_exporter": "python",
   "pygments_lexer": "ipython3",
   "version": "3.5.1"
  }
 },
 "nbformat": 4,
 "nbformat_minor": 0
}
