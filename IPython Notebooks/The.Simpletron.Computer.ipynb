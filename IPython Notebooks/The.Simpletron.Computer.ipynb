{
 "cells": [
  {
   "cell_type": "markdown",
   "metadata": {
    "collapsed": true
   },
   "source": [
    "# Building a Computer\n",
    "\n",
    "In this notebook we are going to design our own \"computer\" called Simpletron - a fairly basic computer that only understands its own \"Simpletron Machine Language (SML).\""
   ]
  },
  {
   "cell_type": "markdown",
   "metadata": {},
   "source": [
    "## Machine Language\n",
    "Before we can write our computer, we have to understand what machine language is.\n",
    "    \n",
    "In the beginning, the only programming language was binary - 0's and 1's. Binary is incredibly difficult for humans to understand so the next step up is to program in decimal \"operation codes\" - op codes - that directly reference memory.\n",
    "\n",
    "An SML instruction is a 2 byte *word* that consists of a one byte instruction and a one byte memory location.\n",
    "    \n",
    "In the short example below, we see the memory location containing the instruction in the left column, the instruction / memory location combo in the middle, and an English description of the operation in the right column.\n",
    "```\n",
    "Location   Number  Instruction\n",
    "00         +1007   (Read variable A)\n",
    "01         +1008   (Read variable B)\n",
    "02         +2007   (Load variable A)\n",
    "03         +3008   (Add variable B)\n",
    "04         +2109   (Store result C)\n",
    "05         +1109   (Write result C)\n",
    "06         +4300   (Halt)\n",
    "07         +0000   (Variable A)\n",
    "08         +0000   (Variable B)\n",
    "09         +0000   (Result C)\n",
    "```"
   ]
  },
  {
   "cell_type": "markdown",
   "metadata": {},
   "source": [
    "## Registers\n",
    "Computers have special memory locations in the CPU called \"registers\" for holding and manipulating data. One special register is called the \"**accumulator**.\"\n",
    "\n",
    "The SML interpreter we are building will load data into the accumulator before it is used in calculations or some other way."
   ]
  },
  {
   "cell_type": "markdown",
   "metadata": {},
   "source": [
    "## Anatomy of a program\n",
    "SML programs must be loaded into memory starting at location 00 and the Simpletron computer has a 100 word memory capacity (00 to 99). SML programs always begin executing at line 00.\n",
    "\n",
    "Each memory location can contain an instruction, data, or be unused.\n",
    "\n",
    "Instructions are composed of two parts: \n",
    "1. The opcode (operation to be performed)\n",
    "2. The operand (address of memory location containing the word to be operated on)"
   ]
  },
  {
   "cell_type": "markdown",
   "metadata": {},
   "source": [
    "|Operation Code|Meaning|\n",
    "|--------------|-------|\n",
    "|Input / Output operations||\n",
    "|READ = 10|Read word from keyboard, store in memory|\n",
    "|WRITE = 11|Write word to specific memory location| \n",
    "|Load and store operations||\n",
    "|LOAD = 20|Load word from specific memory location|\n",
    "|STORE = 21|Store word in specific memory location| \n",
    "|Arithmetic operations||\n",
    "|ADD = 30|Add a word from a specific memory location to word in accumulator|\n",
    "|SUBTRACT = 31|Subtract a word from a specific memory location from word in accumulator|\n",
    "|DIVIDE = 32|Divide a word from a specific memory location into word in accumulator|\n",
    "|MULTIPLY = 33|Multiply a word from a specific memory location with word in accumulator|\n",
    "|Transfer of control||\n",
    "|Branch = 40|Branch to specific memory location|\n",
    "|BRANCHNEG = 41|Branch to memory location if accumulator is negative|\n",
    "|BRANCHZERO = 42|Branch to specific memory location if accumulator is zero|\n",
    "|HALT = 43|Halt - End program|"
   ]
  },
  {
   "cell_type": "markdown",
   "metadata": {
    "collapsed": true
   },
   "source": [
    "# Computer Simulator\n",
    "The Simpletron computer is a software simulation of a primitive computer, but even so, you will be able to load, debug and run SML programs."
   ]
  },
  {
   "cell_type": "markdown",
   "metadata": {},
   "source": [
    "## Running the Simulation\n",
    "The simulator should print a banner to inform and welcome the user: \n",
    "```\n",
    "*** Welcome to Simpletron! ***\n",
    "\n",
    "*** Please enter your program one instruction ***\n",
    "*** (or data word) at a time. I will type the ***\n",
    "*** location number and a question mark (?).  ***\n",
    "*** You then type the word for that location. ***\n",
    "*** Type the sentinel -99999 to stop entering  ***\n",
    "*** your program                              ***\n",
    "```\n"
   ]
  },
  {
   "cell_type": "markdown",
   "metadata": {},
   "source": [
    "## Memory and Program Loading\n",
    "The simulator's memory is a ** 100 element list. **\n",
    "\n",
    "After printing the banner, the simulator will begin accepting program input by displaying the first memory location and a ?.\n",
    "```\n",
    "00 ?\n",
    "```\n",
    "The user will type program instructions line by line unti finished, then enter -99999 to end.\n",
    "```\n",
    "00 ? +1009\n",
    "01 ? +1010\n",
    "02 ? +2009\n",
    "03 ? +3110\n",
    "04 ? +4107\n",
    "05 ? +1109\n",
    "06 ? +4300\n",
    "07 ? +0000\n",
    "08 ? +0000\n",
    "09 ? -99999\n",
    "\n",
    "*** Program loading completed\n",
    "*** Program execution begins\n",
    "```"
   ]
  },
  {
   "cell_type": "markdown",
   "metadata": {},
   "source": [
    "Program execution begins with line 00 and continues sequentially unless one of the BRANCH instructions are encountered.\n",
    "\n",
    "** Variables **\n",
    "* **accumulator** - the accumulator register\n",
    "* **instruction_counter** - keeps track of the location in memory that contains the instruction to be performed\n",
    "* **operation_code** - operation to be performed (left two digits of the instruction word)\n",
    "* **operand** - memory location the current instruction operates on (right two digits)\n",
    "* **instruction_register** - variable containing instruction to execute (Do not execute instructions directly from memory).\n"
   ]
  },
  {
   "cell_type": "markdown",
   "metadata": {},
   "source": [
    "## Instruction Execution Cycle\n",
    "Using instruction 00 in the example above,\n",
    "**instruction_counter** tells us the location of the next instruction to load. \n",
    "\n",
    "### *Fetch* contents of the memory location:\n",
    "```\n",
    "instruction_register = memory[instruction_counter]\n",
    "```\n",
    "Extract the opcode and operand:\n",
    "```\n",
    "operation_code = instruction_register[0:2] # 10 - read\n",
    "operand = instruction_register[2:4]        # 09 - into mem loc 09\n",
    "```\n",
    "Now Simpletron must examine the operation_code and determine:\n",
    "* if it is a valid opcode\n",
    "* what operation to perform\n",
    "\n",
    "Ex:\n",
    "```\n",
    "read:   memory[ operand ] = input('? ')\n",
    "load:   accumulator = memory[ operand ]\n",
    "add :   accumulator += memory[ operand ]\n",
    "branch:  \n",
    "halt:   print('*** Simpletron Execution Terminated ***')\n",
    "```"
   ]
  },
  {
   "cell_type": "markdown",
   "metadata": {},
   "source": [
    "### Execute operand\n",
    "Instruction word +1009 means \"read from keyboard and put result in location 09.\"\n",
    "\n",
    "Show a ? as a prompt for the read. When the user presses the 'Enter' key, place the value in 09.\n",
    "\n",
    "**The instruction is complete at this point.**"
   ]
  },
  {
   "cell_type": "markdown",
   "metadata": {},
   "source": [
    "### Prepare for next instruction\n",
    "Increment instruction_counter:\n",
    "```\n",
    "instruction_counter += 1\n",
    "```\n",
    "**This completes the first instruction cycle.**"
   ]
  },
  {
   "cell_type": "markdown",
   "metadata": {},
   "source": [
    "## Branching\n",
    "Transfer of control (branching) means jumping foward or backward in the code depending on some condition. This can be accomplished by adjusting the value in the instruction_counter. For example, the \"branch if accumulator zero\" could be\n",
    "```\n",
    "if accumulator == 0:\n",
    "   instruction_counter = operand\n",
    "```\n",
    "and the unconditional branch (40) could be\n",
    "```\n",
    "instruction_counter = operand\n",
    "```"
   ]
  },
  {
   "cell_type": "code",
   "execution_count": null,
   "metadata": {
    "collapsed": true
   },
   "outputs": [],
   "source": []
  }
 ],
 "metadata": {
  "kernelspec": {
   "display_name": "Python 3",
   "language": "python",
   "name": "python3"
  },
  "language_info": {
   "codemirror_mode": {
    "name": "ipython",
    "version": 3
   },
   "file_extension": ".py",
   "mimetype": "text/x-python",
   "name": "python",
   "nbconvert_exporter": "python",
   "pygments_lexer": "ipython3",
   "version": "3.5.1"
  }
 },
 "nbformat": 4,
 "nbformat_minor": 0
}
