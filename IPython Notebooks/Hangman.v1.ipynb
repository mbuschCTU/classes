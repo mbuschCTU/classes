{
 "cells": [
  {
   "cell_type": "markdown",
   "metadata": {},
   "source": [
    "# Making a Hangman Game"
   ]
  },
  {
   "cell_type": "markdown",
   "metadata": {
    "slideshow": {
     "slide_type": "-"
    }
   },
   "source": [
    "Hangman is the kid's game where one person chooses a \"Secret word\" and the other person tries to guess it. For each wrong guess another body part is added to the \"hangman\" on the gallows. The game is over when all the body parts are drawn.\n",
    "\n",
    "We are going to make our own version of Hangman where the computer randomly chooses the \"secret word\" and you try to guess it."
   ]
  },
  {
   "cell_type": "markdown",
   "metadata": {},
   "source": [
    "## Analysis:"
   ]
  },
  {
   "cell_type": "markdown",
   "metadata": {},
   "source": [
    "### Choosing the Secret Word"
   ]
  },
  {
   "cell_type": "markdown",
   "metadata": {
    "slideshow": {
     "slide_type": "-"
    }
   },
   "source": [
    "* The computer chooses the \"secret word\" using a dictionary file and the random number library.\n",
    "    * Dictionary file:\n",
    "        * This should be a text file of some sort. \n",
    "        * Open file\n",
    "        * Read file into a variable (list?). Some conversion may have to happen depending on the structure of the text file.\n",
    "            * CSV, for example\n",
    "    * Random number:\n",
    "        * Should be between 1 and total number of words (inclusive).\n",
    "        * Should be integer.\n",
    "        * Use as index into the list of words.\n",
    "        * return the word from function.\n"
   ]
  },
  {
   "cell_type": "code",
   "execution_count": 12,
   "metadata": {
    "collapsed": false
   },
   "outputs": [],
   "source": [
    "import random\n",
    "def choose_word():\n",
    "    with open('./wordlist.txt','r') as wordlist:\n",
    "        words = wordlist.readlines()\n",
    "    return random.choice(words)\n"
   ]
  },
  {
   "cell_type": "code",
   "execution_count": 17,
   "metadata": {
    "collapsed": false
   },
   "outputs": [
    {
     "name": "stdout",
     "output_type": "stream",
     "text": [
      "word = brines\n"
     ]
    }
   ],
   "source": [
    "word = choose_word().rstrip('\\n')\n",
    "print ('word = ' + word)\n"
   ]
  },
  {
   "cell_type": "markdown",
   "metadata": {},
   "source": [
    "### Tracking Letters"
   ]
  },
  {
   "cell_type": "markdown",
   "metadata": {
    "slideshow": {
     "slide_type": "-"
    }
   },
   "source": [
    "* Keeping track of letters:\n",
    "    * All the guessed letters (so they don't repeat one).\n",
    "    * Right guesses.\n",
    "    * Wrong guesses (so we know how many body parts to draw).\n",
    "    * Guesses should be shown in one place so player doesn't repeat.\n",
    "    * Correct letters should be shown in their correct places somehow.\n",
    "\n"
   ]
  },
  {
   "cell_type": "code",
   "execution_count": 28,
   "metadata": {
    "collapsed": false
   },
   "outputs": [],
   "source": [
    "wrong = []\n",
    "right = ['_'] * len(word)\n",
    "total_guess=[]\n",
    "\n",
    "def get_guess(total):\n",
    "    guess = input('guess: ')\n",
    "    while not guess.isalpha() or len(guess) > 1 or guess in total:\n",
    "        print('Try again, loser')\n",
    "        guess = input('guess: ')\n",
    "    return guess\n",
    "\n",
    "def eval_guess(guess, word, right, wrong, total_guess):\n",
    "    if guess in word:\n",
    "        while guess in word:\n",
    "            index = word.index(guess)\n",
    "            right[index] = guess\n",
    "            word[index] = '_'\n",
    "    else:\n",
    "        wrong.append(guess)\n",
    "    total_guess.append(guess)\n",
    "        \n",
    "        \n",
    "def display(wrong, right, total_guess):\n",
    "    print('wrong: ' + ''.join(wrong))\n",
    "    print('word: ' + ''.join(right))\n",
    "    print('total: ' + ''.join(total_guess))\n",
    "\n",
    "    "
   ]
  },
  {
   "cell_type": "code",
   "execution_count": 29,
   "metadata": {
    "collapsed": false
   },
   "outputs": [
    {
     "name": "stdout",
     "output_type": "stream",
     "text": [
      "guess: q\n"
     ]
    }
   ],
   "source": [
    "total_guess\n",
    "g = get_guess(total_guess)"
   ]
  },
  {
   "cell_type": "code",
   "execution_count": 35,
   "metadata": {
    "collapsed": false
   },
   "outputs": [
    {
     "name": "stdout",
     "output_type": "stream",
     "text": [
      "wrong: qqqqq\n",
      "word: ______\n",
      "total: qqqqq\n"
     ]
    }
   ],
   "source": [
    "eval_guess(g, word, right, wrong, total_guess)\n",
    "wrong\n",
    "total_guess\n",
    "display(wrong, right, total_guess)"
   ]
  },
  {
   "cell_type": "markdown",
   "metadata": {},
   "source": [
    "### Graphics"
   ]
  },
  {
   "cell_type": "markdown",
   "metadata": {
    "slideshow": {
     "slide_type": "-"
    }
   },
   "source": [
    "* Gallows and Hangman\n",
    "    * These can be \"ASCII art.\" \n",
    "    * The gallows is always shown.\n",
    "    * The hangman gets drawn depending how many wrong guesses.\n",
    "        * Start with the noose, then head, left arm, right arm, body, left leg, right leg (7 wrongs.)"
   ]
  },
  {
   "cell_type": "raw",
   "metadata": {
    "slideshow": {
     "slide_type": "-"
    }
   },
   "source": [
    "\n",
    "\n",
    "SECRET WORD\n",
    "_________\n",
    "|/\t     |\n",
    "|\t    (_)\n",
    "|   \t/|\\\n",
    "|\t     |\n",
    "|   \t/ \\\n",
    "|\n",
    "|___\n",
    "\n",
    "HANGMAN"
   ]
  },
  {
   "cell_type": "code",
   "execution_count": 47,
   "metadata": {
    "collapsed": false
   },
   "outputs": [
    {
     "name": "stdout",
     "output_type": "stream",
     "text": [
      "\n",
      "\n",
      "   +---+\n",
      "   |   |\n",
      "   O   |\n",
      "  /|\\  |\n",
      "  /    |\n",
      "       |\n",
      " =========\n"
     ]
    }
   ],
   "source": [
    " HANGMANPICS = ['''\n",
    "  \n",
    "     +---+\n",
    "     |   |\n",
    "         |\n",
    "         |\n",
    "         |\n",
    "         |\n",
    "  =========''', '''\n",
    " \n",
    "    +---+\n",
    "    |   |\n",
    "    O   |\n",
    "        |\n",
    "        |\n",
    "        |\n",
    "  =========''', '''\n",
    " \n",
    "    +---+\n",
    "    |   |\n",
    "    O   |\n",
    "    |   |\n",
    "        |\n",
    "        |\n",
    "  =========''', '''\n",
    " \n",
    "    +---+\n",
    "    |   |\n",
    "    O   |\n",
    "   /|   |\n",
    "        |\n",
    "        |\n",
    "  =========''', '''\n",
    " \n",
    "    +---+\n",
    "    |   |\n",
    "    O   |\n",
    "   /|\\  |\n",
    "        |\n",
    "        |\n",
    "  =========''', '''\n",
    " \n",
    "    +---+\n",
    "    |   |\n",
    "    O   |\n",
    "   /|\\  |\n",
    "   /    |\n",
    "        |\n",
    "  =========''', '''\n",
    " \n",
    "    +---+\n",
    "    |   |\n",
    "    O   |\n",
    "   /|\\  |\n",
    "   / \\  |\n",
    "        |\n",
    "  =========''']\n",
    "\n",
    "\n",
    "print(HANGMANPICS[len(wrong)])"
   ]
  },
  {
   "cell_type": "markdown",
   "metadata": {},
   "source": [
    "### Ending the Game"
   ]
  },
  {
   "cell_type": "markdown",
   "metadata": {
    "slideshow": {
     "slide_type": "-"
    }
   },
   "source": [
    "* Win or Lose?\n",
    "    * If they get 7 wrong, they lose\n",
    "    * If they guess all the letters, they win\n",
    "        * How do we know they guessed all the letters? What is the comparison?\n",
    "    * Maybe return a tuple of true/false, true/false for win/lose?\n",
    "        * return (True, False) # for win, not lose, etc."
   ]
  },
  {
   "cell_type": "markdown",
   "metadata": {},
   "source": [
    "### The Game Loop"
   ]
  },
  {
   "cell_type": "markdown",
   "metadata": {
    "slideshow": {
     "slide_type": "-"
    }
   },
   "source": [
    "* Ask player for guess\n",
    "* Add letter to guessed letter list\n",
    "* If guess is wrong:\n",
    "    * Add letter to wrong letters\n",
    "* If guess is right:\n",
    "    * Place letter correctly in result word/area/whatever\n",
    "* Draw gallows and however much hangman we need.    "
   ]
  },
  {
   "cell_type": "code",
   "execution_count": null,
   "metadata": {
    "collapsed": true
   },
   "outputs": [],
   "source": []
  }
 ],
 "metadata": {
  "celltoolbar": "Raw Cell Format",
  "kernelspec": {
   "display_name": "Python 3",
   "language": "python",
   "name": "python3"
  },
  "language_info": {
   "codemirror_mode": {
    "name": "ipython",
    "version": 3
   },
   "file_extension": ".py",
   "mimetype": "text/x-python",
   "name": "python",
   "nbconvert_exporter": "python",
   "pygments_lexer": "ipython3",
   "version": "3.5.1"
  }
 },
 "nbformat": 4,
 "nbformat_minor": 0
}
