{
 "cells": [
  {
   "cell_type": "markdown",
   "metadata": {},
   "source": [
    "#  Battleship Prototype Page\n",
    "\n",
    "## Notes:\n",
    "\n",
    "* Human vs. Computer\n",
    "* 10 x 10 board (2)\n",
    "    * \"board\" is where we place our ships\n",
    "    * \"radar\" shows our hits & misses on opponent\n",
    "* 5 ships\n",
    "    * Carrier (C, 5)\n",
    "    * Battleship (B, 4)\n",
    "    * Submarine (S, 3)\n",
    "    * Destroyer (D, 3)\n",
    "    * Patrol Boat (P, 2)\n",
    "* Human places ships by specifying direction (H / V) and starting coordinate\n",
    "* Computer randomly generates positions"
   ]
  },
  {
   "cell_type": "markdown",
   "metadata": {},
   "source": [
    "## Board class\n",
    "\n",
    "### Attributes\n",
    "* 10 X 10 matrix\n",
    "    * list of 10 lists\n",
    "        * each of these lists has 10 \"_\" entries\n",
    "    * On Radar:\n",
    "        * \"*\" denotes a hit\n",
    "        * \"@\" denotes a miss\n",
    "    * Board will have ship letters (C,B,S,D,P) show positions\n",
    "        \n",
    "### Methods (functions) \n",
    "* Mark radar(coordinates) \n",
    "* Check coordinates for validity\n",
    "    * On the board?\n",
    "    * No prior shot (hit or miss) \n",
    "* Display the board"
   ]
  },
  {
   "cell_type": "markdown",
   "metadata": {},
   "source": [
    "## Ship Class\n",
    "\n",
    "### Attributes\n",
    "* Name\n",
    "* Size\n",
    "* hit_points\n",
    "* Row\n",
    "* Column\n",
    "* direction (H or V)\n",
    "* Alive / Dead\n",
    "\n",
    "### Methods\n",
    "* is_alive()\n",
    "* hits_left()\n",
    "* place_ship(coordinates, direction)\n",
    "* is_hit(coordinates)"
   ]
  },
  {
   "cell_type": "code",
   "execution_count": 1,
   "metadata": {
    "collapsed": true
   },
   "outputs": [],
   "source": [
    "class Ship:\n",
    "    def __init__(self, name='',size=0, row=0, column=0,alive=True, direction='h'):\n",
    "        self.name = name\n",
    "        self.size = size\n",
    "        self.row = row\n",
    "        self.column = column\n",
    "        self.alive = alive\n",
    "        self.direction = direction\n",
    "        self.hit_points == self.size\n",
    "        \n",
    "    def is_alive(self):\n",
    "        return self.alive\n",
    "    \n",
    "    def hits_left(self):\n",
    "        return self.hit_points\n",
    "    \n",
    "    def place_ship(self, row, column, direction):\n",
    "        self.row = row\n",
    "        self.column = column\n",
    "        \n",
    "    def is_hit(self, row, column):\n",
    "        if self.direction == 'h':\n",
    "            if row == self.row and column in range(self.column, self.column + self.size):\n",
    "                self.hit_points -= 1\n",
    "                if self.hit_points == 0:\n",
    "                    self.alive = False\n",
    "                return True\n",
    "        if self.direction == 'v':\n",
    "            if column == self.column and row in range(self.row, self.row + self.size):\n",
    "                self.hit_points -= 1\n",
    "                if self.hit_points == 0:\n",
    "                    self.alive = False\n",
    "                return True\n",
    "        \n",
    "        return False\n",
    "    \n",
    "    \n",
    "            "
   ]
  },
  {
   "cell_type": "code",
   "execution_count": null,
   "metadata": {
    "collapsed": true
   },
   "outputs": [],
   "source": [
    "HIT = '*'\n",
    "MISS = '@'\n",
    "abbrev = ['C', 'D', 'S', 'B', 'P']\n",
    "sizes = {\n",
    "    'C' : 5,\n",
    "    'B' : 4,\n",
    "    'D' : 3,\n",
    "    'S' : 3,\n",
    "    'P' : 2\n",
    "}\n",
    "\n",
    "class Board:\n",
    "    def __init__(self):\n",
    "        self.board = []\n",
    "        self.board = [['_' for i in range(10)] for j in range(10)]\n",
    "        \n",
    "    def is_valid(self, row, col):\n",
    "        if row in range(10) and col in range(10):\n",
    "            if self.board[row][col] not in [HIT, MISS]:\n",
    "                return True\n",
    "        return False\n",
    "    \n",
    "    def is_clear(self, row, col):\n",
    "        return self.board[row][col] == '_'\n",
    "    \n",
    "    def place_ship(self, abb, row, col, direction):\n",
    "        valid = True\n",
    "        new_val = 0\n",
    "        if direction == 'h':\n",
    "            for i in range(sizes[abb]):\n",
    "                if not self.is_clear(row, i):\n",
    "                    valid = False\n",
    "                    break\n",
    "        else:           \n",
    "            for i in range(sizes[abb]):\n",
    "                if not self.is_clear(i, col):\n",
    "                    valid = False\n",
    "                    break\n",
    "        "
   ]
  },
  {
   "cell_type": "code",
   "execution_count": 11,
   "metadata": {
    "collapsed": false
   },
   "outputs": [],
   "source": []
  },
  {
   "cell_type": "code",
   "execution_count": 12,
   "metadata": {
    "collapsed": false
   },
   "outputs": [
    {
     "data": {
      "text/plain": [
       "range(0, 4)"
      ]
     },
     "execution_count": 12,
     "metadata": {},
     "output_type": "execute_result"
    }
   ],
   "source": []
  },
  {
   "cell_type": "code",
   "execution_count": null,
   "metadata": {
    "collapsed": false
   },
   "outputs": [],
   "source": []
  },
  {
   "cell_type": "code",
   "execution_count": null,
   "metadata": {
    "collapsed": true
   },
   "outputs": [],
   "source": []
  },
  {
   "cell_type": "code",
   "execution_count": null,
   "metadata": {
    "collapsed": true
   },
   "outputs": [],
   "source": []
  },
  {
   "cell_type": "code",
   "execution_count": null,
   "metadata": {
    "collapsed": true
   },
   "outputs": [],
   "source": []
  },
  {
   "cell_type": "code",
   "execution_count": null,
   "metadata": {
    "collapsed": true
   },
   "outputs": [],
   "source": []
  }
 ],
 "metadata": {
  "kernelspec": {
   "display_name": "Python 3",
   "language": "python",
   "name": "python3"
  },
  "language_info": {
   "codemirror_mode": {
    "name": "ipython",
    "version": 3
   },
   "file_extension": ".py",
   "mimetype": "text/x-python",
   "name": "python",
   "nbconvert_exporter": "python",
   "pygments_lexer": "ipython3",
   "version": "3.5.2"
  }
 },
 "nbformat": 4,
 "nbformat_minor": 0
}
