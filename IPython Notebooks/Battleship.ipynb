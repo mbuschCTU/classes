{
 "cells": [
  {
   "cell_type": "markdown",
   "metadata": {
    "deletable": true,
    "editable": true
   },
   "source": [
    "#  Battleship Prototype Page\n",
    "\n",
    "## Notes:\n",
    "\n",
    "* Human vs. Computer\n",
    "* 10 x 10 board (2)\n",
    "    * \"board\" is where we place our ships\n",
    "    * \"radar\" shows our hits & misses on opponent\n",
    "* 5 ships\n",
    "    * Carrier (C, 5)\n",
    "    * Battleship (B, 4)\n",
    "    * Submarine (S, 3)\n",
    "    * Destroyer (D, 3)\n",
    "    * Patrol Boat (P, 2)\n",
    "* Human places ships by specifying direction (H / V) and starting coordinate\n",
    "* Computer randomly generates positions"
   ]
  },
  {
   "cell_type": "markdown",
   "metadata": {
    "deletable": true,
    "editable": true
   },
   "source": [
    "## Board class\n",
    "\n",
    "### Attributes\n",
    "* 10 X 10 matrix\n",
    "    * list of 10 lists\n",
    "        * each of these lists has 10 \"_\" entries\n",
    "    * On Radar:\n",
    "        * \"*\" denotes a hit\n",
    "        * \"@\" denotes a miss\n",
    "    * Board will have ship letters (C,B,S,D,P) show positions\n",
    "        \n",
    "### Methods (functions) \n",
    "* Mark radar(coordinates) \n",
    "* Check coordinates for validity\n",
    "    * On the board?\n",
    "    * No prior shot (hit or miss) \n",
    "* Display the board"
   ]
  },
  {
   "cell_type": "markdown",
   "metadata": {
    "deletable": true,
    "editable": true
   },
   "source": [
    "## Ship Class\n",
    "\n",
    "### Attributes\n",
    "* Name\n",
    "* Size\n",
    "* hit_points\n",
    "* Row\n",
    "* Column\n",
    "* direction (H or V)\n",
    "* Alive / Dead\n",
    "\n",
    "### Methods\n",
    "* is_alive()\n",
    "* hits_left()\n",
    "* place_ship(coordinates, direction)\n",
    "* is_hit(coordinates)"
   ]
  },
  {
   "cell_type": "code",
   "execution_count": 34,
   "metadata": {
    "collapsed": true
   },
   "outputs": [],
   "source": [
    "HIT = '*'\n",
    "MISS = '@'\n",
    "abbrev = ['C', 'D', 'S', 'B', 'P']\n",
    "sizes = {\n",
    "    'C' : 5,\n",
    "    'B' : 4,\n",
    "    'D' : 3,\n",
    "    'S' : 3,\n",
    "    'P' : 2\n",
    "}\n",
    "\n",
    "names = {\n",
    "    'C' : 'Carrier',\n",
    "    'B' : 'Battleship',\n",
    "    'D' : 'Destroyer',\n",
    "    'S' : 'Submarine',\n",
    "    'P' : 'Patrol Boat'\n",
    "}"
   ]
  },
  {
   "cell_type": "code",
   "execution_count": 35,
   "metadata": {
    "collapsed": true,
    "deletable": true,
    "editable": true
   },
   "outputs": [],
   "source": [
    "class Ship:\n",
    "    def __init__(self, name='', row=0, column=0, direction='h', alive=True):\n",
    "        self.name = name\n",
    "        if name != '':\n",
    "            self.size = sizes[name]\n",
    "        else:\n",
    "            self.size = 0\n",
    "        self.row = row\n",
    "        self.column = column\n",
    "        self.alive = alive\n",
    "        self.direction = direction\n",
    "        self.hit_points = self.size\n",
    "        \n",
    "    def is_alive(self):\n",
    "        return self.alive\n",
    "    \n",
    "    def hits_left(self):\n",
    "        return self.hit_points\n",
    "    \n",
    "    def place_ship(self, row, column, direction):\n",
    "        self.row = row\n",
    "        self.column = column\n",
    "        \n",
    "    def is_hit(self, row, column):\n",
    "        if self.direction == 'h':\n",
    "            if row == self.row and column in range(self.column, self.column + self.size):\n",
    "                self.hit_points -= 1\n",
    "                if self.hit_points == 0:\n",
    "                    self.alive = False\n",
    "                return True\n",
    "        if self.direction == 'v':\n",
    "            if column == self.column and row in range(self.row, self.row + self.size):\n",
    "                self.hit_points -= 1\n",
    "                if self.hit_points == 0:\n",
    "                    self.alive = False\n",
    "                return True\n",
    "        \n",
    "        return False\n",
    "    \n",
    "\n",
    "    \n",
    "            "
   ]
  },
  {
   "cell_type": "code",
   "execution_count": 47,
   "metadata": {
    "collapsed": false,
    "deletable": true,
    "editable": true
   },
   "outputs": [],
   "source": [
    "\n",
    "class Board:\n",
    "    def __init__(self):\n",
    "        self.board = []\n",
    "        self.ships = []\n",
    "        self.board = [['_' for i in range(10)] for j in range(10)]\n",
    "        \n",
    "    def is_valid(self, row, col):\n",
    "        if row in range(10) and col in range(10):\n",
    "            if self.board[row][col] not in ([HIT, MISS] + abbrev):\n",
    "                return True\n",
    "        return False\n",
    "    \n",
    "    def is_clear(self, row, col):\n",
    "        return self.board[row][col] == '_'\n",
    "                \n",
    "    def place_marker(self,abb, row, col, direction=''):\n",
    "        if abb in [HIT, MISS]:\n",
    "            self.board[row][col] = abb\n",
    "        else:\n",
    "            for i in range(0, sizes[abb]):\n",
    "                if direction=='v':\n",
    "                    self.board[row + i][col] = abb\n",
    "                else:\n",
    "                    self.board[row][col + i] = abb\n",
    "                \n",
    "    def place_ship(self, abb, row, col, direction):\n",
    "        valid = True\n",
    "        new_val = 0\n",
    "        for i in range(0, sizes[abb]):\n",
    "            if direction == 'h':\n",
    "                if not self.is_valid(row, col + i):  \n",
    "                    valid = False\n",
    "                    break\n",
    "            else:\n",
    "                if not self.is_valid(row + i,col): \n",
    "                    valid = False\n",
    "                    break\n",
    "        if valid:\n",
    "            ship = Ship(abb, row, col, direction)\n",
    "            self.place_marker(abb, row, col, direction)\n",
    "            self.ships.append(ship)\n",
    "        return valid\n",
    "    \n",
    "    def render(self):\n",
    "        print('    0 1 2 3 4 5 6 7 8 9')\n",
    "        print('  ---------------------')\n",
    "        for i, row in enumerate(self.board): # foreach <item> in <container>:\n",
    "            print(str(i) + ' | ', end='')\n",
    "            for col in row:\n",
    "                print(col, end=' ')\n",
    "            print()\n",
    "            \n",
    "    def get_hit_points(self):\n",
    "        total = 0\n",
    "        for ship in self.ships:\n",
    "            total += ship.hits_left()\n",
    "        return total\n",
    "    \n",
    "    def do_shot(self, row, col):\n",
    "        for ship in self.ships:\n",
    "            if ship.is_hit(row,col):\n",
    "                self.place_marker(HIT, row, col)\n",
    "                return HIT\n",
    "        self.place_marker(MISS, row, col)\n",
    "        return MISS"
   ]
  },
  {
   "cell_type": "markdown",
   "metadata": {
    "collapsed": false,
    "deletable": true,
    "editable": true
   },
   "source": [
    "# Player Class\n",
    "\n",
    "## Attributes\n",
    "* board - ocean - keeps ships\n",
    "* board - radar - keeps track of shots (hit, miss)\n",
    "\n",
    "## Methods\n",
    "* Place ships\n",
    "* Take shot (ask other player, ask if you hit or not)\n",
    "* Determine hit or miss\n",
    "\n"
   ]
  },
  {
   "cell_type": "code",
   "execution_count": 37,
   "metadata": {
    "collapsed": false,
    "deletable": true,
    "editable": true
   },
   "outputs": [],
   "source": [
    "class Player:\n",
    "    def __init__(self):\n",
    "        self.ocean = Board()\n",
    "        self.radar = Board()\n",
    "        \n",
    "    def get_xy(self, coord):\n",
    "        return int(coord[0]), int(coord[-1])\n",
    "    \n",
    "    def place_fleet(self):\n",
    "        for ship in abbrev: \n",
    "            xy = input('Enter coordinates (#,#) for ' + names[ship] + ': ')\n",
    "            row, col = self.get_xy(xy)\n",
    "            direction = input('Enter direction (h/v): ')\n",
    "            while not self.ocean.place_ship(ship, row, col, direction):\n",
    "                print('Bad Coordinates. Try again.')\n",
    "                xy = input('Enter coordinates (#,#) for ' + names[ship] + ': ')\n",
    "                row, col = self.get_xy(xy)\n",
    "                direction = input('Enter direction (h/v): ')\n",
    "            self.ocean.render()\n",
    "            \n",
    "    def take_shot(self, enemy):\n",
    "        xy = input('Enter coordinates (#,#) for shot: ')\n",
    "        row, col = self.get_xy(xy)\n",
    "        # Note - should REALLY check if valid\n",
    "        marker = enemy.is_hit(row, col)\n",
    "        self.radar.place_marker(marker, row, col)\n",
    "        self.radar.render()\n",
    "        \n",
    "    def is_hit(self, row, col):\n",
    "        marker = self.ocean.do_shot(row, col) # TO DO\n",
    "        return marker"
   ]
  },
  {
   "cell_type": "code",
   "execution_count": 48,
   "metadata": {
    "collapsed": false,
    "deletable": true,
    "editable": true
   },
   "outputs": [],
   "source": [
    "p = Player()"
   ]
  },
  {
   "cell_type": "code",
   "execution_count": 49,
   "metadata": {
    "collapsed": false,
    "deletable": true,
    "editable": true
   },
   "outputs": [
    {
     "data": {
      "text/plain": [
       "True"
      ]
     },
     "execution_count": 49,
     "metadata": {},
     "output_type": "execute_result"
    }
   ],
   "source": [
    "p.ocean.place_ship('C', 0,0,'h' )"
   ]
  },
  {
   "cell_type": "code",
   "execution_count": 50,
   "metadata": {
    "collapsed": false,
    "deletable": true,
    "editable": true
   },
   "outputs": [
    {
     "name": "stdout",
     "output_type": "stream",
     "text": [
      "    0 1 2 3 4 5 6 7 8 9\n",
      "  ---------------------\n",
      "0 | C C C C C _ _ _ _ _ \n",
      "1 | _ _ _ _ _ _ _ _ _ _ \n",
      "2 | _ _ _ _ _ _ _ _ _ _ \n",
      "3 | _ _ _ _ _ _ _ _ _ _ \n",
      "4 | _ _ _ _ _ _ _ _ _ _ \n",
      "5 | _ _ _ _ _ _ _ _ _ _ \n",
      "6 | _ _ _ _ _ _ _ _ _ _ \n",
      "7 | _ _ _ _ _ _ _ _ _ _ \n",
      "8 | _ _ _ _ _ _ _ _ _ _ \n",
      "9 | _ _ _ _ _ _ _ _ _ _ \n"
     ]
    }
   ],
   "source": [
    "p.ocean.render()"
   ]
  },
  {
   "cell_type": "code",
   "execution_count": 51,
   "metadata": {
    "collapsed": false
   },
   "outputs": [
    {
     "data": {
      "text/plain": [
       "'*'"
      ]
     },
     "execution_count": 51,
     "metadata": {},
     "output_type": "execute_result"
    }
   ],
   "source": [
    "p.is_hit(0,0)"
   ]
  },
  {
   "cell_type": "code",
   "execution_count": 52,
   "metadata": {
    "collapsed": false
   },
   "outputs": [
    {
     "name": "stdout",
     "output_type": "stream",
     "text": [
      "    0 1 2 3 4 5 6 7 8 9\n",
      "  ---------------------\n",
      "0 | * C C C C _ _ _ _ _ \n",
      "1 | _ _ _ _ _ _ _ _ _ _ \n",
      "2 | _ _ _ _ _ _ _ _ _ _ \n",
      "3 | _ _ _ _ _ _ _ _ _ _ \n",
      "4 | _ _ _ _ _ _ _ _ _ _ \n",
      "5 | _ _ _ _ _ _ _ _ _ _ \n",
      "6 | _ _ _ _ _ _ _ _ _ _ \n",
      "7 | _ _ _ _ _ _ _ _ _ _ \n",
      "8 | _ _ _ _ _ _ _ _ _ _ \n",
      "9 | _ _ _ _ _ _ _ _ _ _ \n"
     ]
    }
   ],
   "source": [
    "p.ocean.render()"
   ]
  },
  {
   "cell_type": "code",
   "execution_count": 53,
   "metadata": {
    "collapsed": false,
    "deletable": true,
    "editable": true
   },
   "outputs": [
    {
     "data": {
      "text/plain": [
       "'@'"
      ]
     },
     "execution_count": 53,
     "metadata": {},
     "output_type": "execute_result"
    }
   ],
   "source": [
    "p.is_hit(2,0)"
   ]
  },
  {
   "cell_type": "code",
   "execution_count": 54,
   "metadata": {
    "collapsed": false,
    "deletable": true,
    "editable": true
   },
   "outputs": [
    {
     "name": "stdout",
     "output_type": "stream",
     "text": [
      "    0 1 2 3 4 5 6 7 8 9\n",
      "  ---------------------\n",
      "0 | * C C C C _ _ _ _ _ \n",
      "1 | _ _ _ _ _ _ _ _ _ _ \n",
      "2 | @ _ _ _ _ _ _ _ _ _ \n",
      "3 | _ _ _ _ _ _ _ _ _ _ \n",
      "4 | _ _ _ _ _ _ _ _ _ _ \n",
      "5 | _ _ _ _ _ _ _ _ _ _ \n",
      "6 | _ _ _ _ _ _ _ _ _ _ \n",
      "7 | _ _ _ _ _ _ _ _ _ _ \n",
      "8 | _ _ _ _ _ _ _ _ _ _ \n",
      "9 | _ _ _ _ _ _ _ _ _ _ \n"
     ]
    }
   ],
   "source": [
    "p.ocean.render()"
   ]
  },
  {
   "cell_type": "code",
   "execution_count": null,
   "metadata": {
    "collapsed": false
   },
   "outputs": [],
   "source": [
    "board.place_ship('D', 1, 0, 'v')"
   ]
  },
  {
   "cell_type": "code",
   "execution_count": null,
   "metadata": {
    "collapsed": false
   },
   "outputs": [],
   "source": [
    "board.render()"
   ]
  },
  {
   "cell_type": "code",
   "execution_count": null,
   "metadata": {
    "collapsed": false
   },
   "outputs": [],
   "source": [
    "board.ships[0].row"
   ]
  },
  {
   "cell_type": "code",
   "execution_count": null,
   "metadata": {
    "collapsed": false
   },
   "outputs": [],
   "source": [
    "range(4)"
   ]
  },
  {
   "cell_type": "code",
   "execution_count": null,
   "metadata": {
    "collapsed": true
   },
   "outputs": [],
   "source": []
  }
 ],
 "metadata": {
  "kernelspec": {
   "display_name": "Python 3",
   "language": "python",
   "name": "python3"
  },
  "language_info": {
   "codemirror_mode": {
    "name": "ipython",
    "version": 3
   },
   "file_extension": ".py",
   "mimetype": "text/x-python",
   "name": "python",
   "nbconvert_exporter": "python",
   "pygments_lexer": "ipython3",
   "version": "3.5.2"
  }
 },
 "nbformat": 4,
 "nbformat_minor": 0
}
