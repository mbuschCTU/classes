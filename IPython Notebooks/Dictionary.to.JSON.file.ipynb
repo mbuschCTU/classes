{
 "cells": [
  {
   "cell_type": "markdown",
   "metadata": {},
   "source": [
    "# Writing Dictionaries to JSON Files\n",
    "\n",
    "As we saw earlier, a dictionary is a good way to organize each snippet, but not a great way to store the snippet in a file. \n",
    "\n",
    "Someone, somewhere must have come up with a better way!\n",
    "\n",
    "## The Better Way\n",
    "\n",
    "There are a variety of ways to write structured data to a file. Today we are going to look at using JSON format to store our dictionaries."
   ]
  },
  {
   "cell_type": "code",
   "execution_count": 39,
   "metadata": {
    "collapsed": true
   },
   "outputs": [],
   "source": [
    "import json\n",
    "\n",
    "def printplus(obj):   # printplus is a function I saw on StackOverflow \n",
    "                      # and saved in my own snippet manager :)\n",
    "    \"\"\"\n",
    "    Pretty-prints the object passed in.\n",
    "\n",
    "    \"\"\"\n",
    "    # Dict\n",
    "    if isinstance(obj, dict):\n",
    "        for k, v in sorted(obj.items()):\n",
    "            print (u'{0}: {1}'.format(k, v))\n",
    "\n",
    "    # List or tuple            \n",
    "    elif isinstance(obj, list) or isinstance(obj, tuple):\n",
    "        for x in obj:\n",
    "            print (x)\n",
    "\n",
    "    # Other\n",
    "    else:\n",
    "        print (obj)\n",
    "\n"
   ]
  },
  {
   "cell_type": "markdown",
   "metadata": {},
   "source": [
    "Let's use the same dictionaries and data that we used last time."
   ]
  },
  {
   "cell_type": "code",
   "execution_count": 33,
   "metadata": {
    "collapsed": false
   },
   "outputs": [
    {
     "name": "stdout",
     "output_type": "stream",
     "text": [
      "{'age': 43, 'department': 'engineering', 'name': 'Henry'}\n",
      "{'age': 29, 'department': 'R & D', 'name': 'Joan'}\n"
     ]
    }
   ],
   "source": [
    "dict_list = []\n",
    "dct = {'name':'Henry','age':43,'department':'engineering'}\n",
    "dict_list.append(dct)   # dict_list stores a reference to dct's memory location. \n",
    "                        # dct can be safely re-used\n",
    "\n",
    "dct = {'name':'Joan','age':29,'department':'R & D'}\n",
    "dict_list.append(dct)\n",
    "\n",
    "printplus(dict_list)"
   ]
  },
  {
   "cell_type": "markdown",
   "metadata": {},
   "source": [
    "Now, let's write it to a JSON file."
   ]
  },
  {
   "cell_type": "code",
   "execution_count": 34,
   "metadata": {
    "collapsed": false
   },
   "outputs": [],
   "source": [
    "with open ('dict.json','w') as ofile:\n",
    "    for d in dict_list:\n",
    "        json.dump(d,ofile)\n",
    "        ofile.write('\\n')"
   ]
  },
  {
   "cell_type": "markdown",
   "metadata": {},
   "source": [
    "Now let's read it back in."
   ]
  },
  {
   "cell_type": "code",
   "execution_count": 37,
   "metadata": {
    "collapsed": false
   },
   "outputs": [
    {
     "name": "stdout",
     "output_type": "stream",
     "text": [
      "age: 43\n",
      "department: engineering\n",
      "name: Henry\n",
      "\n",
      "age: 29\n",
      "department: R & D\n",
      "name: Joan\n",
      "\n"
     ]
    }
   ],
   "source": [
    "json_list = []\n",
    "d = {}\n",
    "with open('dict.json', 'r') as infile:\n",
    "    for line in infile:\n",
    "        d = json.loads(line)\n",
    "        json_list.append(d)\n",
    "        \n",
    "for j in json_list:\n",
    "    printplus(j)\n",
    "    print()"
   ]
  },
  {
   "cell_type": "markdown",
   "metadata": {},
   "source": [
    "Perfect!\n",
    "\n",
    "## Putting it all together\n",
    "\n",
    "Recall my proposed snippet format:\n",
    "```\n",
    "snip = {\n",
    "    'name':'mySnippet',\n",
    "    'code':'for x in range(1,7): \\n    print(x)',\n",
    "    'tags':['loop', 'for'],\n",
    "    'language':'python',\n",
    "    'notes': 'my awesome for loop code.'\n",
    "    }\n",
    "```\n",
    "\n",
    "Let's write an input function for a snippet."
   ]
  },
  {
   "cell_type": "code",
   "execution_count": 40,
   "metadata": {
    "collapsed": true
   },
   "outputs": [],
   "source": [
    "def snip_input():\n",
    "    d = {}\n",
    "    code = []\n",
    "    text = None\n",
    "    tags = []\n",
    "    print('Enter snippet info below. \\n')\n",
    "    d['name'] = input('Enter snippet name:')\n",
    "    print('Enter code at the => prompts. Press enter on a blank line to end.')\n",
    "    while text != '':\n",
    "        text = input('=> ')\n",
    "        if text != '':\n",
    "            code.append(text)\n",
    "    d['code'] = code\n",
    "    text = input('Enter tags with commas between each one: ')\n",
    "    tags = text.split(',')\n",
    "    d['tags'] = tags\n",
    "    d['language'] = input('language: ')\n",
    "    d['notes'] = input('Enter notes. Input ends with the Enter key: ')\n",
    "    return d\n",
    "\n",
    "    "
   ]
  },
  {
   "cell_type": "code",
   "execution_count": 41,
   "metadata": {
    "collapsed": false
   },
   "outputs": [
    {
     "name": "stdout",
     "output_type": "stream",
     "text": [
      "Enter snippet info below. \n",
      "\n",
      "Enter snippet name:firstSnip\n",
      "Enter code at the => prompts. Press enter on a blank line to end.\n",
      "=> snip_list = [] for _ in range(3):     snip = snip_input()     snip_list.append(snip)\n",
      "=> \n",
      "Enter tags with commas between each one: for, looping\n",
      "language: Python\n",
      "Enter notes. Input ends with the Enter key: Looping\n",
      "Enter snippet info below. \n",
      "\n",
      "Enter snippet name:secondSnip\n",
      "Enter code at the => prompts. Press enter on a blank line to end.\n",
      "=> def find(lst, key, value):     for i, dic in enumerate(lst):         if dic[key] == value:             return i     return -1\n",
      "=> \n",
      "Enter tags with commas between each one: search, dictionary\n",
      "language: Python\n",
      "Enter notes. Input ends with the Enter key: Searching a nested dictionary\n",
      "Enter snippet info below. \n",
      "\n",
      "Enter snippet name:numbaThree\n",
      "Enter code at the => prompts. Press enter on a blank line to end.\n",
      "=> def write_snipfile(snip_list):     with open ('snippets.json','w') as ofile:         for s in snip_list:             json.dump(s, ofile)             ofile.write('\\n')\n",
      "=> \n",
      "Enter tags with commas between each one: json, file\n",
      "language: Python\n",
      "Enter notes. Input ends with the Enter key: Writing dictionaries to json\n"
     ]
    }
   ],
   "source": [
    "snip_list = []\n",
    "for _ in range(3):\n",
    "    snip = snip_input()\n",
    "    snip_list.append(snip)"
   ]
  },
  {
   "cell_type": "code",
   "execution_count": 42,
   "metadata": {
    "collapsed": false
   },
   "outputs": [
    {
     "name": "stdout",
     "output_type": "stream",
     "text": [
      "{'tags': ['for', ' looping'], 'language': 'Python', 'code': ['snip_list = [] for _ in range(3):     snip = snip_input()     snip_list.append(snip)'], 'name': 'firstSnip', 'notes': 'Looping'}\n",
      "{'tags': ['search', ' dictionary'], 'language': 'Python', 'code': ['def find(lst, key, value):     for i, dic in enumerate(lst):         if dic[key] == value:             return i     return -1'], 'name': 'secondSnip', 'notes': 'Searching a nested dictionary'}\n",
      "{'tags': ['json', ' file'], 'language': 'Python', 'code': [\"def write_snipfile(snip_list):     with open ('snippets.json','w') as ofile:         for s in snip_list:             json.dump(s, ofile)             ofile.write('\\\\n')\"], 'name': 'numbaThree', 'notes': 'Writing dictionaries to json'}\n"
     ]
    }
   ],
   "source": [
    "printplus(snip_list)"
   ]
  },
  {
   "cell_type": "markdown",
   "metadata": {},
   "source": [
    "### We could also use a search function"
   ]
  },
  {
   "cell_type": "code",
   "execution_count": 43,
   "metadata": {
    "collapsed": true
   },
   "outputs": [],
   "source": [
    "def find(lst, key, value):\n",
    "    for i, dic in enumerate(lst):\n",
    "        if dic[key] == value:\n",
    "            return i\n",
    "    return -1"
   ]
  },
  {
   "cell_type": "markdown",
   "metadata": {},
   "source": [
    "### And a function to write the snippet file:"
   ]
  },
  {
   "cell_type": "code",
   "execution_count": 44,
   "metadata": {
    "collapsed": true
   },
   "outputs": [],
   "source": [
    "def write_snipfile(snip_list):\n",
    "    with open ('snippets.json','w') as ofile:\n",
    "        for s in snip_list:\n",
    "            json.dump(s, ofile)\n",
    "            ofile.write('\\n')"
   ]
  },
  {
   "cell_type": "markdown",
   "metadata": {},
   "source": [
    "### And to get them back:"
   ]
  },
  {
   "cell_type": "code",
   "execution_count": 45,
   "metadata": {
    "collapsed": true
   },
   "outputs": [],
   "source": [
    "def read_snipfile():\n",
    "    json_list = []\n",
    "    d = {}\n",
    "    with open('snippets.json', 'r') as infile:\n",
    "        for line in infile:\n",
    "            d = json.loads(line)\n",
    "            json_list.append(d)\n",
    "    return json_list"
   ]
  },
  {
   "cell_type": "markdown",
   "metadata": {},
   "source": [
    "### Finally, let's test this out"
   ]
  },
  {
   "cell_type": "code",
   "execution_count": 46,
   "metadata": {
    "collapsed": false
   },
   "outputs": [
    {
     "name": "stdout",
     "output_type": "stream",
     "text": [
      "code: ['snip_list = [] for _ in range(3):     snip = snip_input()     snip_list.append(snip)']\n",
      "language: Python\n",
      "name: firstSnip\n",
      "notes: Looping\n",
      "tags: ['for', ' looping']\n",
      "\n",
      "code: ['def find(lst, key, value):     for i, dic in enumerate(lst):         if dic[key] == value:             return i     return -1']\n",
      "language: Python\n",
      "name: secondSnip\n",
      "notes: Searching a nested dictionary\n",
      "tags: ['search', ' dictionary']\n",
      "\n",
      "code: [\"def write_snipfile(snip_list):     with open ('snippets.json','w') as ofile:         for s in snip_list:             json.dump(s, ofile)             ofile.write('\\\\n')\"]\n",
      "language: Python\n",
      "name: numbaThree\n",
      "notes: Writing dictionaries to json\n",
      "tags: ['json', ' file']\n",
      "\n"
     ]
    }
   ],
   "source": [
    "write_snipfile(snip_list)\n",
    "\n",
    "mySnips = read_snipfile()\n",
    "\n",
    "for snip in mySnips:\n",
    "    printplus(snip)\n",
    "    print()\n"
   ]
  },
  {
   "cell_type": "code",
   "execution_count": null,
   "metadata": {
    "collapsed": true
   },
   "outputs": [],
   "source": []
  }
 ],
 "metadata": {
  "kernelspec": {
   "display_name": "Python 3",
   "language": "python",
   "name": "python3"
  },
  "language_info": {
   "codemirror_mode": {
    "name": "ipython",
    "version": 3
   },
   "file_extension": ".py",
   "mimetype": "text/x-python",
   "name": "python",
   "nbconvert_exporter": "python",
   "pygments_lexer": "ipython3",
   "version": "3.5.1"
  }
 },
 "nbformat": 4,
 "nbformat_minor": 0
}
